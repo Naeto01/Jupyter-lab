{
 "cells": [
  {
   "cell_type": "markdown",
   "id": "7bd1e218-bf2e-4abd-81a1-7684b893e6d9",
   "metadata": {},
   "source": [
    "# Data Science Tools And Ecosysytem"
   ]
  },
  {
   "cell_type": "markdown",
   "id": "a9dc8c6c-d718-4646-8cab-fb947db309ad",
   "metadata": {},
   "source": [
    "In this notebook, data science tools and ecosystem are summarized"
   ]
  },
  {
   "cell_type": "markdown",
   "id": "827e30de-73bd-49e1-a5dd-f5b8a6cc555e",
   "metadata": {},
   "source": [
    "**Objectives** \n",
    "ul\n",
    "- List popular languages data scientists use\n",
    "- List common libraries data scientists use\n",
    "- List data science tools"
   ]
  },
  {
   "cell_type": "markdown",
   "id": "64865a06-e326-424c-a3a5-7d015b25f65b",
   "metadata": {},
   "source": [
    "some of the popular languages that data scientists use are"
   ]
  },
  {
   "cell_type": "markdown",
   "id": "6ef15f4c-a0c0-4990-a3af-a6631734777b",
   "metadata": {},
   "source": [
    "ol \n",
    "1. Python \n",
    "2. R\n",
    "3. SQL"
   ]
  },
  {
   "cell_type": "markdown",
   "id": "f94e14b7-a64f-4249-9bdd-8b7cb097510a",
   "metadata": {},
   "source": [
    "Some of the commonly used libraries by data scientists include"
   ]
  },
  {
   "cell_type": "markdown",
   "id": "83952969-c8dd-4b0d-8935-84a7d84ee168",
   "metadata": {},
   "source": [
    "ol\n",
    "1. NumPy\n",
    "2. Panads\n",
    "3. Scikit-learn \n",
    "4. MatplotLib"
   ]
  },
  {
   "cell_type": "markdown",
   "id": "15aa15d8-146a-46e7-8e56-2dd7c4f74951",
   "metadata": {},
   "source": [
    "|Data Science Tools|\n",
    "|-----|\n",
    "|MongoDB|\n",
    "|Apache|\n",
    "|MySQL|"
   ]
  },
  {
   "cell_type": "markdown",
   "id": "248de457-412a-4436-b538-70b9292fb11a",
   "metadata": {},
   "source": [
    "### Below are a few examples of evaluating arithmetic expressions in Python"
   ]
  },
  {
   "cell_type": "code",
   "execution_count": 1,
   "id": "208c7098-a95a-488f-9d51-e04a6816e07d",
   "metadata": {
    "tags": []
   },
   "outputs": [
    {
     "data": {
      "text/plain": [
       "17"
      ]
     },
     "execution_count": 1,
     "metadata": {},
     "output_type": "execute_result"
    }
   ],
   "source": [
    "# This is a simple arithmetic to multiply and add integers\n",
    "(3*4)+5"
   ]
  },
  {
   "cell_type": "code",
   "execution_count": 2,
   "id": "19e1e424-f345-48c9-bde2-87ebe7bea757",
   "metadata": {
    "tags": []
   },
   "outputs": [
    {
     "data": {
      "text/plain": [
       "3.3333333333333335"
      ]
     },
     "execution_count": 2,
     "metadata": {},
     "output_type": "execute_result"
    }
   ],
   "source": [
    "# This will convert 200 minutes to hours by diving by 60\n",
    "200/60"
   ]
  },
  {
   "cell_type": "markdown",
   "id": "16b3bd0c-464c-481d-a26a-13fe103db054",
   "metadata": {},
   "source": [
    "## Author\n",
    "Agorchukwu Naeto"
   ]
  }
 ],
 "metadata": {
  "kernelspec": {
   "display_name": "Python",
   "language": "python",
   "name": "conda-env-python-py"
  },
  "language_info": {
   "codemirror_mode": {
    "name": "ipython",
    "version": 3
   },
   "file_extension": ".py",
   "mimetype": "text/x-python",
   "name": "python",
   "nbconvert_exporter": "python",
   "pygments_lexer": "ipython3",
   "version": "3.7.12"
  }
 },
 "nbformat": 4,
 "nbformat_minor": 5
}
